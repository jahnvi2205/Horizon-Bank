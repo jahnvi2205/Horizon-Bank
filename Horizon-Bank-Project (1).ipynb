{
 "cells": [
  {
   "cell_type": "markdown",
   "metadata": {
    "id": "PaanjkTewd2U"
   },
   "source": [
    "# Horizon Bank"
   ]
  },
  {
   "cell_type": "markdown",
   "metadata": {
    "id": "x9vfVAsbslya"
   },
   "source": [
    "### Context\n",
    "\n",
    "Decades before, most of the banks used to maintain the details of their customers in a record book or in an excel sheet in a computer. This is not so reliable as compared to today’s revolutionary growth of technology in almost all of the fields.\n",
    "\n",
    "There is also a negative side in today’s growth of technology i.e. the increasing cyber crimes all over the world.\n",
    "\n",
    "Do you know, in earlier days we need to stand in a long queue for hours in banks to deposit (a sum of money paid into a bank account) or withdraw (a sum of money withdrawn from a bank account) or to create a new bank account?\n",
    "But nowadays with the growth of technology, users can create and maintain their bank account or pay their electric bills, phone bills by sitting in their homes. All they need is a smartphone and internet.\n",
    "\n",
    "Now, a new bank called Horizon Bank decides to update their banking model from old excel sheets to the latest technology and require a sample project of a bank model. Let us help them in creating this bank application."
   ]
  },
  {
   "cell_type": "markdown",
   "metadata": {
    "id": "G9pdov_M0nzo"
   },
   "source": [
    "---"
   ]
  },
  {
   "cell_type": "markdown",
   "metadata": {
    "id": "2i36Yv3-MPY5"
   },
   "source": [
    "### Problem Statement\n",
    "\n",
    "In this project, you have to write a computer program to create an interactive bank application for the Horizon Bank. The application must have two simple functionalities:\n",
    "\n",
    "1. Allow a customer to create a new bank account with their following personal details:\n",
    "\n",
    "   - Full name\n",
    "\n",
    "   - Permanent residential address\n",
    "\n",
    "   - Personal or residential phone number\n",
    "\n",
    "   - Valid government-issued identification\n",
    "\n",
    "   - Amount to be deposited to the account\n",
    "\n",
    "2. Allow an existing customer of the bank to\n",
    "\n",
    "   - Check their bank balance\n",
    "\n",
    "   - Withdraw some amount from their account provided that the withdrawal amount is less than the available bank balance\n",
    "\n",
    "   - Deposit some amount to their account\n"
   ]
  },
  {
   "cell_type": "markdown",
   "metadata": {
    "id": "Y9JYGh67SE1-"
   },
   "source": [
    "---"
   ]
  },
  {
   "cell_type": "markdown",
   "metadata": {
    "id": "toeLx5LJpIV-"
   },
   "source": [
    "### Project Requirements\n",
    "\n",
    "1. Create an empty dictionary and store it in the `cust_data` variable. Also, create a list holding the attributes to be filled by a customer. Store the list in the `new_user_attributes` variable.\n",
    "\n",
    "2. Create a function to add a new user to the 'cust_data' dictionary. Name the function as `new_user()`.\n",
    "\n",
    "3. Create a function to get the account details of an existing user from the `cust_data` dictionary. Name the function as `existing_user()`.\n",
    "\n",
    "4. Finally, create an infinite `while` loop to run the application.\n"
   ]
  },
  {
   "cell_type": "markdown",
   "metadata": {
    "id": "5JRlGIBRqCGl"
   },
   "source": [
    "---"
   ]
  },
  {
   "cell_type": "markdown",
   "metadata": {
    "id": "UCusTfW0tcxe"
   },
   "source": [
    "#### 1. Customer Data\n",
    "\n",
    "The data of all the customers needs to be stored in a Python dictionary. Let's call it `cust_data`.\n",
    "\n",
    "The key of the `cust_data` dictionary should be an account number of a customer. Its corresponding value should be another dictionary holding the personal details of a customer such as `name`, `address, email id` etc. as shown below.\n",
    "\n",
    "```\n",
    "cust_data = {10011 : {'name': karthik,\n",
    "                      'address': 'C42, MG Complex, Sector-14, Vashi',\n",
    "                      'phone num': '9876543210',\n",
    "                      'govt id': 'C12345Z',\n",
    "                      'amount': 15999}}\n",
    "```\n",
    "\n",
    "Here, `10011` is the account number for Karthik's saving account. It acts as a key to the dictionary containing his details.\n",
    "\n",
    "To add the personal details of another customer to the `cust_data` dictionary, you need to append it with existing data in the dictionary as shown below.\n",
    "\n",
    "```\n",
    "cust_data = {10011 : {'name': karthik,\n",
    "                      'address': 'C42, MG Complex, Sector-14, Vashi',\n",
    "                      'phone num': '9876543210',\n",
    "                      'govt id': 'C12345Z',\n",
    "                      'amount': 15999},\n",
    "            100012 : {'name' : Hrithik,\n",
    "                      'address': B-910, Mandapeshwar Kripa, Borivalli,\n",
    "                      'phone num' : '9876543210',\n",
    "                      'govt id': 'QL44345',\n",
    "                      'amount': 13999}}\n",
    "```\n",
    "\n",
    "Next, you need to create a list holding the personal attributes of a customer, i.e.,\n",
    "\n",
    "`['name', 'address', 'phone num', 'govt id', 'amount']`."
   ]
  },
  {
   "cell_type": "code",
   "execution_count": 1,
   "metadata": {
    "id": "6RL71w3ntzcH"
   },
   "outputs": [],
   "source": [
    "# Creating the empty 'cust_data' dictionary and the 'new_user_attributes' list.\n",
    "cust_data={}\n",
    "new_user_attributes=['name', 'address', 'phone num', 'govt id', 'amount']"
   ]
  },
  {
   "cell_type": "markdown",
   "metadata": {
    "id": "RETr5Tv1JBls"
   },
   "source": [
    "---"
   ]
  },
  {
   "cell_type": "markdown",
   "metadata": {
    "id": "0_OEabQbGQcP"
   },
   "source": [
    "#### 2. Add New User\n",
    "\n",
    "Create a function to add a new user to the `cust_data` dictionary. Name the function as `new_user()`. To do this, follow the steps described below.\n",
    "\n",
    "**Step 1**: Create a random five-digit account number (ranging between 10000 to 99999) for a new customer using the `random` module. Make sure that it doesn't already exist in the `cust_data` dictionary.\n",
    "\n",
    "**Step 2**: Create an empty list and store it in the `new_user_input` variable. This list is used to store the details of the user that is given in the `new_user_attribues` list.\n",
    "\n",
    "**Step 3**: Prompt the user to enter all of their required details one-by-one and add  them to the list `new_user_input`. Make sure that the amount added to the list is an integer data-type.\n",
    "\n",
    "**Step 4**: Create a dictionary for the new user and add it to the `cust_data` dictionary.\n",
    "\n",
    "**Step 5**: Display the following message to the user.\n",
    "\n",
    "  ```\n",
    "  Your details are added successfully.\n",
    "  Your account number is ABCDE\n",
    "  Please don't lose it.\n",
    "  ```\n",
    "  where `ABCDE` is some randomly generated 5-digit account number (ranging between 10000 to 99999) for the new user.\n",
    "\n"
   ]
  },
  {
   "cell_type": "markdown",
   "metadata": {
    "id": "X6kTBtzgQAip"
   },
   "source": [
    "**Note**: Write your code wherever you see the `Write your code here` comment."
   ]
  },
  {
   "cell_type": "code",
   "execution_count": 2,
   "metadata": {
    "colab": {
     "base_uri": "https://localhost:8080/",
     "height": 140
    },
    "id": "mROhcvIy0ML6",
    "outputId": "8a2d5497-3508-4a76-861a-0a05fac0fa3c"
   },
   "outputs": [],
   "source": [
    "# The 'new_user()' function to add a new user to the 'cust_data' dictionary.\n",
    "import random\n",
    "\n",
    "def new_user():\n",
    "    \n",
    "  # Step 1: Create a random five-digit account number and store it in 'acc_num' variable\n",
    "    acc_num = random.randint(10000,99999)\n",
    "    while acc_num in cust_data:\n",
    "        acc_num = random.randint(10000,99999)\n",
    "  \n",
    "  # Step 2: Create an empty list and store it in the 'new_user_inputs' variable.\n",
    "    new_user_inputs = [] \n",
    "  \n",
    "  # Step 3: Prompting the user to enter all of their required details one-by-one and add them to the list new_user_input.\n",
    "    for i in range(0,len(new_user_attributes)-1):\n",
    "        inp = input(f\"Enter user's {new_user_attributes[i]} : \")\n",
    "        new_user_inputs.append(inp)\n",
    "    new_user_inputs.append(int(input(\"Enter the Amount: \")))\n",
    "  \n",
    "  # Step 4: Creating a dictionary for the new user and add it to the cust_data dictionary.\n",
    "    cust_data[acc_num]=dict(zip(new_user_attributes,new_user_inputs))\n",
    "  \n",
    "  # Step 5: Display the message on successfull account creation to the user.\n",
    "    print(f\"\\nYour details are added successfully.\\nYour Account Number is {acc_num}\\nPlease don't lose it.\")"
   ]
  },
  {
   "cell_type": "markdown",
   "metadata": {
    "id": "aJJT0ojPGPcd"
   },
   "source": [
    "---"
   ]
  },
  {
   "cell_type": "markdown",
   "metadata": {
    "id": "rZsDogK8LaOW"
   },
   "source": [
    "#### 3. Existing User\n",
    "\n",
    "The function to get the account details of an existing user from the `cust_data` dictionary. Name the function as `existing_user()`. To do this, follow the steps described below.\n",
    "\n",
    "**Step 1**: Prompt the user to enter their account number. Keep prompting until they enter their correct account number. For each invalid account number, print the following message to the user.\n",
    "\n",
    "   ```\n",
    "   Not found. Please enter your correct account number:\n",
    "   ```\n",
    "\n",
    "**Step 2**: Once the user has entered the correct account number, print the following message to the user.\n",
    "\n",
    "   ```\n",
    "   Welcome, user_name !\n",
    "   Enter 1 to check your balance.\n",
    "   Enter 2 to withdraw an amount.\n",
    "   Enter 3 to deposit an amount.\n",
    "   ```\n",
    "  where `user_name` is the name of the existing user who entered his account number correctly in the first step.\n",
    "\n",
    "**Step 3**: Prompt the user to enter either `1, 2` or `3`. Keep prompting until the user enters the valid input. For each invalid input, print the following message to the user.\n",
    "\n",
    "   ```\n",
    "   Invalid input!\n",
    "   Enter 1 to check your balance.\n",
    "   Enter 2 to withdraw an amount.\n",
    "   Enter 3 to deposit an amount.\n",
    "   ```\n",
    "\n",
    "**Step 4**: In the case of valid input:\n",
    "\n",
    "   - If the user enters `1`, then display their available account balance.\n",
    "\n",
    "   - Else if the user enters `2`, then prompt the user to enter the withdrawal amount by displaying the `Enter the amount to be withdrawn:` message.\n",
    "\n",
    "     - If the withdrawal amount is greater than the available balance, then display the following message.\n",
    "\n",
    "       ```\n",
    "       Insufficient balance.\n",
    "       Available balance: X\n",
    "       ```\n",
    "\n",
    "        where `X` is the available balance in the user's account.\n",
    "\n",
    "     - Else, subtract the withdrawal amount from the available balance and replace the existing available amount with the updated amount in the `cust_data` dictionary. Also, print the following message.\n",
    "\n",
    "       ```\n",
    "       Withdrawal successful.\n",
    "       Available Balance: Y\n",
    "       ```\n",
    "\n",
    "       where `Y` is the updated amount.\n",
    "\n",
    "   - Else if the user enters `3`, then prompt them to enter the amount to be deposited to their account by displaying the `Enter the amount to be deposited:` message. Add the deposit amount to the available balance and update the new deposit amount in the `cust_data` dictionary. Also, display the following message.\n",
    "\n",
    "     ```\n",
    "     Deposit successful.\n",
    "     Available Balance: Z\n",
    "     ```\n",
    "\n",
    "     where `Z` is the updated deposit amount.\n"
   ]
  },
  {
   "cell_type": "code",
   "execution_count": 3,
   "metadata": {
    "id": "8HV3cY6O9LeE"
   },
   "outputs": [],
   "source": [
    "# The 'existing_user()' function to get the account details of an existing user from the 'cust_data' dictionary.\n",
    "def existing_user():\n",
    "  \n",
    "  # Step 1: Ask the user to enter the existing account number and store it as an integer.\n",
    "    acc_num=int(input(\"\\nEnter your Account number: \"))\n",
    "    while acc_num not in cust_data:\n",
    "        acc_num=int(input(\"\\nNot found. Please enter your correct account number: \"))\n",
    "  \n",
    "  # Step 2: Print the welcome message to the user.\n",
    "    print(f\"\\nWelcome, {cust_data[acc_num]['name'].title()} !\\nEnter 1 to check your balance.\\nEnter 2 to withdraw an amount.\\nEnter 3 to deposit an amount.\")\n",
    "  \n",
    "  # Step 3: Asking the user to select a valid choice.\n",
    "    user_choice = input(\"Enter your choice :\")\n",
    "    while user_choice not in ['1','2','3']:\n",
    "        print(\"\\nInvalid input!\\nEnter 1 to check your balance.\\nEnter 2 to withdraw an amount.\\nEnter 3 to deposit an amount.\")\n",
    "        user_choice = input(\"Enter your choice :\")\n",
    "  \n",
    "  # Step 4:\n",
    "                            \n",
    "  # If 'user_choice == 1' then display the account balance i.e. 'cust_data[acc_num]['amount']'\n",
    "    if user_choice == '1':\n",
    "        print(\"\\nAvailable Balnace:\",cust_data[acc_num]['amount'])\n",
    "                            \n",
    "  # Else if 'user_choice == 2' then subtract the withdrawal amount from the available balance.\n",
    "    elif user_choice == '2':\n",
    "        Amount=int(input(\"\\nEnter the amount to be withdrawn:\"))\n",
    "        if Amount>cust_data[acc_num]['amount']:\n",
    "            print(\"\\nInsufficient balance.\\nAvailable balance:\",cust_data[acc_num]['amount'])\n",
    "        else:\n",
    "            cust_data[acc_num]['amount']-=Amount\n",
    "            print(\"\\nWithdrawal successful.\\nAvailable balance:\",cust_data[acc_num]['amount'])\n",
    "                                     \n",
    "  # Else if 'user_choice == 3' then add the deposit amount to the available balance.\n",
    "    elif user_choice == '3':\n",
    "        Amount=int(input(\"\\nEnter the amount to be deposited:\"))\n",
    "        cust_data[acc_num]['amount']+=Amount\n",
    "        print(\"\\nDeposit successful.\\nAvailable Balance:\",cust_data[acc_num]['amount'])\n"
   ]
  },
  {
   "cell_type": "markdown",
   "metadata": {
    "id": "gdgW4-R6LVB3"
   },
   "source": [
    "---"
   ]
  },
  {
   "cell_type": "markdown",
   "metadata": {
    "id": "NyHSsEwEoEvH"
   },
   "source": [
    "#### 4. Infinite `while` Loop\n",
    "\n",
    "Finally, create an infinite `while` loop to run the application. Inside the loop:\n",
    "\n",
    "  1. Create a list of valid inputs, i.e., `'1', '2', '3'`\n",
    "\n",
    "  2. Prompt the user to enter either `1, 2,` or `3` by displaying the following message.\n",
    "\n",
    "     ```\n",
    "     Welcome to the Horizon Bank!\n",
    "\n",
    "     Enter 1 if you are a new customer.\n",
    "     Enter 2 if you are an existing customer.\n",
    "     Enter 3 to terminate the application.\n",
    "     ```\n",
    "\n",
    "     Keep prompting until the user enters the valid input. For each invalid input, print the following message to the user.\n",
    "\n",
    "     ```\n",
    "     Invalid input!\n",
    "     Enter 1 if you are a new customer.\n",
    "     Enter 2 if you are an existing customer.\n",
    "     Enter 3 to terminate the application.\n",
    "     ```\n",
    "\n",
    "  3. If the user enters `1`, then create a new account for the user and get their personal details. After creating the account, terminate the application with the `Thank you, for banking with us!` message.\n",
    "\n",
    "  4. Else if the user enters 2, then display their account balance, reduce their balance or increase their balance depending on their further input. Afterwards, terminate the application with the `Thank you, for banking with us!` message.\n",
    "\n",
    "  5. Else if the user enters 3, then terminate the application with the `Thank you, for banking with us!` message."
   ]
  },
  {
   "cell_type": "code",
   "execution_count": null,
   "metadata": {
    "id": "-QAIIkM1qCNr"
   },
   "outputs": [
    {
     "name": "stdout",
     "output_type": "stream",
     "text": [
      "\n",
      "Welcome to the Horizon Bank!\n",
      "Enter 1 if you are a new customer.\n",
      "Enter 2 if you are an existing customer.\n",
      "Enter 3 to terminate the application.\n",
      "Enter your choice :1\n",
      "Enter user's name : jahnvi\n",
      "Enter user's address : nyc\n",
      "Enter user's phone num : 73344\n",
      "Enter user's govt id : 6564\n",
      "Enter the Amount: 2344\n",
      "\n",
      "Your details are added successfully.\n",
      "Your Account Number is 76007\n",
      "Please don't lose it.\n",
      "\n",
      "Thank you, for banking with us!\n",
      "\n",
      "Welcome to the Horizon Bank!\n",
      "Enter 1 if you are a new customer.\n",
      "Enter 2 if you are an existing customer.\n",
      "Enter 3 to terminate the application.\n",
      "Enter your choice :2\n",
      "\n",
      "Enter your Account number: 76007\n",
      "\n",
      "Welcome, Jahnvi !\n",
      "Enter 1 to check your balance.\n",
      "Enter 2 to withdraw an amount.\n",
      "Enter 3 to deposit an amount.\n",
      "Enter your choice :2\n",
      "\n",
      "Enter the amount to be withdrawn:456\n",
      "\n",
      "Withdrawal successful.\n",
      "Available balance: 1888\n",
      "\n",
      "Thank you, for banking with us!\n",
      "\n",
      "Welcome to the Horizon Bank!\n",
      "Enter 1 if you are a new customer.\n",
      "Enter 2 if you are an existing customer.\n",
      "Enter 3 to terminate the application.\n",
      "Enter your choice :3\n",
      "\n",
      "Thank you, for banking with us!\n",
      "\n",
      "Welcome to the Horizon Bank!\n",
      "Enter 1 if you are a new customer.\n",
      "Enter 2 if you are an existing customer.\n",
      "Enter 3 to terminate the application.\n"
     ]
    }
   ],
   "source": [
    "# Create an infinite while loop to run the application.\n",
    "while True:\n",
    "    \n",
    "    print(\"\\nWelcome to the Horizon Bank!\\nEnter 1 if you are a new customer.\\nEnter 2 if you are an existing customer.\\nEnter 3 to terminate the application.\")\n",
    "    user_choice = input(\"Enter your choice :\")\n",
    "    while user_choice not in ['1','2','3']:\n",
    "        print(\"\\nInvalid input!\\nEnter 1 if you are a new customer.\\nEnter 2 if you are an existing customer.\\nEnter 3 to terminate the application.\\n\")\n",
    "        user_choice = input(\"Enter your choice :\")\n",
    "\n",
    "  # If the user enters 1, then call the 'new_user()' function (to create a new account for the user and get their personal details).\n",
    "    if(user_choice == '1'):\n",
    "        new_user()\n",
    "        print(\"\\nThank you, for banking with us!\")\n",
    "        \n",
    "  # Else If the user enters 2, then call the 'existing_user()' function.\n",
    "    elif (user_choice=='2'):\n",
    "        existing_user()\n",
    "        print(\"\\nThank you, for banking with us!\")\n",
    "\n",
    "  # Else If the user enters 3, then terminate the application with the 'Thank you, for banking with us!' message.\n",
    "    elif (user_choice == '3'):\n",
    "         print(\"\\nThank you, for banking with us!\")"
   ]
  },
  {
   "cell_type": "markdown",
   "metadata": {
    "id": "G3WtFv0Ah3nx"
   },
   "source": [
    "**Hints**:\n",
    "\n",
    "- If the user enters `1` i.e. *New customer*, then invoke the `new_user()` function and break the infinite loop using the `break` keyword after displaying the thank you message (`'Thank you, for banking with us!'`).\n",
    "\n",
    "- Else if the user enters `2` i.e. *Existing customer*, then invoke the `existing_user()` function and break the infinite loop using the `break` keyword after displaying the thank you message (`'Thank you, for banking with us!'`).\n",
    "\n",
    "- Else if the user enters `3` i.e. *Quit application*, then display the thank you message (`‘Thank you, for banking with us!’`) and break the infinite loop using the `break` keyword."
   ]
  },
  {
   "cell_type": "markdown",
   "metadata": {
    "id": "fZV1ZSS5CuTq"
   },
   "source": [
    "---"
   ]
  }
 ],
 "metadata": {
  "colab": {
   "provenance": []
  },
  "kernelspec": {
   "display_name": "Python 3 (ipykernel)",
   "language": "python",
   "name": "python3"
  },
  "language_info": {
   "codemirror_mode": {
    "name": "ipython",
    "version": 3
   },
   "file_extension": ".py",
   "mimetype": "text/x-python",
   "name": "python",
   "nbconvert_exporter": "python",
   "pygments_lexer": "ipython3",
   "version": "3.9.13"
  }
 },
 "nbformat": 4,
 "nbformat_minor": 1
}
